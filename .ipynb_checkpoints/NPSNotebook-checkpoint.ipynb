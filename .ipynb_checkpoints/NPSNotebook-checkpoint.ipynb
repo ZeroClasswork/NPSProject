{
 "cells": [
  {
   "cell_type": "markdown",
   "metadata": {
    "slideshow": {
     "slide_type": "slide"
    }
   },
   "source": [
    "# An NPS-nalysis by Megan O'Bryan"
   ]
  },
  {
   "cell_type": "code",
   "execution_count": 1,
   "metadata": {
    "slideshow": {
     "slide_type": "slide"
    }
   },
   "outputs": [],
   "source": [
    "# Gotta start somewhere\n",
    "import pandas as pd\n",
    "import numpy as np\n",
    "import seaborn as sns\n",
    "import matplotlib.pylab as plt\n",
    "\n",
    "data2017 = pd.read_csv(\"SA Feedback Surveys_FINAL/2017/Student Feedback Surveys-Superview.csv\")"
   ]
  },
  {
   "cell_type": "markdown",
   "metadata": {
    "slideshow": {
     "slide_type": "slide"
    }
   },
   "source": [
    "# Let's review our data"
   ]
  },
  {
   "cell_type": "markdown",
   "metadata": {
    "slideshow": {
     "slide_type": "subslide"
    }
   },
   "source": [
    "# I decided to use the data from 2017 exclusively, because it's well labeled and clearly rated\n",
    "## 2016 had ratings that weren't out of 10"
   ]
  },
  {
   "cell_type": "markdown",
   "metadata": {
    "slideshow": {
     "slide_type": "subslide"
    }
   },
   "source": [
    "# Let's see what this gives us\n"
   ]
  },
  {
   "cell_type": "code",
   "execution_count": 2,
   "metadata": {
    "slideshow": {
     "slide_type": "fragment"
    }
   },
   "outputs": [
    {
     "data": {
      "text/html": [
       "<div>\n",
       "<style scoped>\n",
       "    .dataframe tbody tr th:only-of-type {\n",
       "        vertical-align: middle;\n",
       "    }\n",
       "\n",
       "    .dataframe tbody tr th {\n",
       "        vertical-align: top;\n",
       "    }\n",
       "\n",
       "    .dataframe thead th {\n",
       "        text-align: right;\n",
       "    }\n",
       "</style>\n",
       "<table border=\"1\" class=\"dataframe\">\n",
       "  <thead>\n",
       "    <tr style=\"text-align: right;\">\n",
       "      <th></th>\n",
       "      <th>ID</th>\n",
       "      <th>Location</th>\n",
       "      <th>Track</th>\n",
       "      <th>Week</th>\n",
       "      <th>Rating (Num)</th>\n",
       "      <th>Schedule Pacing</th>\n",
       "    </tr>\n",
       "  </thead>\n",
       "  <tbody>\n",
       "    <tr>\n",
       "      <td>1452</td>\n",
       "      <td>1499</td>\n",
       "      <td>New York City</td>\n",
       "      <td>Apps</td>\n",
       "      <td>Week 5</td>\n",
       "      <td>8</td>\n",
       "      <td>Just right</td>\n",
       "    </tr>\n",
       "    <tr>\n",
       "      <td>1201</td>\n",
       "      <td>1247</td>\n",
       "      <td>San Francisco</td>\n",
       "      <td>VR</td>\n",
       "      <td>Week 7</td>\n",
       "      <td>10</td>\n",
       "      <td>Just right</td>\n",
       "    </tr>\n",
       "    <tr>\n",
       "      <td>591</td>\n",
       "      <td>622</td>\n",
       "      <td>New York City</td>\n",
       "      <td>Apps</td>\n",
       "      <td>Week 2</td>\n",
       "      <td>5</td>\n",
       "      <td>Just right</td>\n",
       "    </tr>\n",
       "    <tr>\n",
       "      <td>1130</td>\n",
       "      <td>1175</td>\n",
       "      <td>Tokyo</td>\n",
       "      <td>Apps</td>\n",
       "      <td>Week 1</td>\n",
       "      <td>10</td>\n",
       "      <td>Just right</td>\n",
       "    </tr>\n",
       "    <tr>\n",
       "      <td>578</td>\n",
       "      <td>609</td>\n",
       "      <td>New York City</td>\n",
       "      <td>Games</td>\n",
       "      <td>Week 2</td>\n",
       "      <td>8</td>\n",
       "      <td>Just right</td>\n",
       "    </tr>\n",
       "  </tbody>\n",
       "</table>\n",
       "</div>"
      ],
      "text/plain": [
       "        ID       Location  Track    Week Rating (Num) Schedule Pacing\n",
       "1452  1499  New York City   Apps  Week 5            8      Just right\n",
       "1201  1247  San Francisco     VR  Week 7           10      Just right\n",
       "591    622  New York City   Apps  Week 2            5      Just right\n",
       "1130  1175          Tokyo   Apps  Week 1           10      Just right\n",
       "578    609  New York City  Games  Week 2            8      Just right"
      ]
     },
     "execution_count": 2,
     "metadata": {},
     "output_type": "execute_result"
    }
   ],
   "source": [
    "data2017.sample(5)"
   ]
  },
  {
   "cell_type": "markdown",
   "metadata": {
    "slideshow": {
     "slide_type": "slide"
    }
   },
   "source": [
    "# I focused, first, on Sentiment, to determine NPS"
   ]
  },
  {
   "cell_type": "code",
   "execution_count": 3,
   "metadata": {
    "slideshow": {
     "slide_type": "skip"
    }
   },
   "outputs": [
    {
     "data": {
      "text/plain": [
       "8          392\n",
       "9          384\n",
       "10         376\n",
       "7          177\n",
       "6           59\n",
       "5           35\n",
       "4           13\n",
       "3            8\n",
       "#ERROR!      3\n",
       "1            2\n",
       "2            2\n",
       "0            2\n",
       "Name: Rating (Num), dtype: int64"
      ]
     },
     "execution_count": 3,
     "metadata": {},
     "output_type": "execute_result"
    }
   ],
   "source": [
    "data2017[\"Rating (Num)\"].value_counts()"
   ]
  },
  {
   "cell_type": "code",
   "execution_count": 4,
   "metadata": {
    "slideshow": {
     "slide_type": "skip"
    }
   },
   "outputs": [],
   "source": [
    "promoters2017 = data2017[(data2017[\"Rating (Num)\"] == 9) | (data2017[\"Rating (Num)\"] == 10)]"
   ]
  },
  {
   "cell_type": "code",
   "execution_count": 5,
   "metadata": {
    "slideshow": {
     "slide_type": "skip"
    }
   },
   "outputs": [],
   "source": [
    "passives2017 = data2017[(data2017[\"Rating (Num)\"] == 7) | (data2017[\"Rating (Num)\"] == 8)]"
   ]
  },
  {
   "cell_type": "code",
   "execution_count": 6,
   "metadata": {
    "slideshow": {
     "slide_type": "skip"
    }
   },
   "outputs": [],
   "source": [
    "detractors2017 = (data2017[\"Rating (Num)\"] == 6) | (data2017[\"Rating (Num)\"] == 5) | (data2017[\"Rating (Num)\"] == 4) | (data2017[\"Rating (Num)\"] == 3) | (data2017[\"Rating (Num)\"] == 2) | (data2017[\"Rating (Num)\"] == 1)"
   ]
  },
  {
   "cell_type": "code",
   "execution_count": 7,
   "metadata": {
    "slideshow": {
     "slide_type": "skip"
    }
   },
   "outputs": [],
   "source": [
    "haters2017 = data2017[data2017[\"Rating (Num)\"] == 0]"
   ]
  },
  {
   "cell_type": "markdown",
   "metadata": {
    "slideshow": {
     "slide_type": "subslide"
    }
   },
   "source": [
    "# To convert, first I added the column \"Sentiment\""
   ]
  },
  {
   "cell_type": "code",
   "execution_count": 8,
   "metadata": {
    "slideshow": {
     "slide_type": "fragment"
    }
   },
   "outputs": [],
   "source": [
    "def determine_sentiment(rating):\n",
    "    if (rating == \"9\") | (rating == \"10\"):\n",
    "        return \"Promoter\"\n",
    "    elif (rating == \"7\") | (rating == \"8\"):\n",
    "        return \"Passive\"\n",
    "    elif (rating == \"1\") | (rating == \"2\") | (rating == \"3\") | (rating == \"4\") | (rating == \"5\") | (rating == \"6\"):\n",
    "        return \"Detractor\"\n",
    "    elif (rating == \"0\"):\n",
    "        return \"Hater\"\n",
    "    else:\n",
    "        return \"Unknown\""
   ]
  },
  {
   "cell_type": "code",
   "execution_count": 9,
   "metadata": {
    "slideshow": {
     "slide_type": "fragment"
    }
   },
   "outputs": [],
   "source": [
    "# Where the magic happens\n",
    "data2017[\"Sentiment\"] = data2017.apply(lambda row: determine_sentiment(row[\"Rating (Num)\"]), axis=1)"
   ]
  },
  {
   "cell_type": "code",
   "execution_count": 10,
   "metadata": {
    "slideshow": {
     "slide_type": "skip"
    }
   },
   "outputs": [
    {
     "data": {
      "text/html": [
       "<div>\n",
       "<style scoped>\n",
       "    .dataframe tbody tr th:only-of-type {\n",
       "        vertical-align: middle;\n",
       "    }\n",
       "\n",
       "    .dataframe tbody tr th {\n",
       "        vertical-align: top;\n",
       "    }\n",
       "\n",
       "    .dataframe thead th {\n",
       "        text-align: right;\n",
       "    }\n",
       "</style>\n",
       "<table border=\"1\" class=\"dataframe\">\n",
       "  <thead>\n",
       "    <tr style=\"text-align: right;\">\n",
       "      <th></th>\n",
       "      <th>ID</th>\n",
       "      <th>Location</th>\n",
       "      <th>Track</th>\n",
       "      <th>Week</th>\n",
       "      <th>Rating (Num)</th>\n",
       "      <th>Schedule Pacing</th>\n",
       "      <th>Sentiment</th>\n",
       "    </tr>\n",
       "  </thead>\n",
       "  <tbody>\n",
       "    <tr>\n",
       "      <td>0</td>\n",
       "      <td>134</td>\n",
       "      <td>San Francisco</td>\n",
       "      <td>Apps, Explorer</td>\n",
       "      <td>Week 1</td>\n",
       "      <td>3</td>\n",
       "      <td>Just right</td>\n",
       "      <td>Detractor</td>\n",
       "    </tr>\n",
       "    <tr>\n",
       "      <td>1</td>\n",
       "      <td>36</td>\n",
       "      <td>Los Angeles</td>\n",
       "      <td>Apps</td>\n",
       "      <td>Week 1</td>\n",
       "      <td>4</td>\n",
       "      <td>A little too fast</td>\n",
       "      <td>Detractor</td>\n",
       "    </tr>\n",
       "    <tr>\n",
       "      <td>2</td>\n",
       "      <td>117</td>\n",
       "      <td>San Francisco</td>\n",
       "      <td>Games</td>\n",
       "      <td>Week 1</td>\n",
       "      <td>4</td>\n",
       "      <td>Way too slow</td>\n",
       "      <td>Detractor</td>\n",
       "    </tr>\n",
       "    <tr>\n",
       "      <td>3</td>\n",
       "      <td>253</td>\n",
       "      <td>NaN</td>\n",
       "      <td>NaN</td>\n",
       "      <td>Week 2</td>\n",
       "      <td>4</td>\n",
       "      <td>A little too fast</td>\n",
       "      <td>Detractor</td>\n",
       "    </tr>\n",
       "    <tr>\n",
       "      <td>4</td>\n",
       "      <td>350</td>\n",
       "      <td>New York City</td>\n",
       "      <td>Apps, Explorer</td>\n",
       "      <td>Week 1</td>\n",
       "      <td>4</td>\n",
       "      <td>Just right</td>\n",
       "      <td>Detractor</td>\n",
       "    </tr>\n",
       "    <tr>\n",
       "      <td>...</td>\n",
       "      <td>...</td>\n",
       "      <td>...</td>\n",
       "      <td>...</td>\n",
       "      <td>...</td>\n",
       "      <td>...</td>\n",
       "      <td>...</td>\n",
       "      <td>...</td>\n",
       "    </tr>\n",
       "    <tr>\n",
       "      <td>1448</td>\n",
       "      <td>1495</td>\n",
       "      <td>New York City</td>\n",
       "      <td>Apps, Explorer</td>\n",
       "      <td>Week 7</td>\n",
       "      <td>10</td>\n",
       "      <td>Just right</td>\n",
       "      <td>Promoter</td>\n",
       "    </tr>\n",
       "    <tr>\n",
       "      <td>1449</td>\n",
       "      <td>1496</td>\n",
       "      <td>New York City</td>\n",
       "      <td>Apps, Explorer</td>\n",
       "      <td>Week 7</td>\n",
       "      <td>8</td>\n",
       "      <td>Just right</td>\n",
       "      <td>Passive</td>\n",
       "    </tr>\n",
       "    <tr>\n",
       "      <td>1450</td>\n",
       "      <td>1497</td>\n",
       "      <td>New York City</td>\n",
       "      <td>Apps</td>\n",
       "      <td>Week 7</td>\n",
       "      <td>10</td>\n",
       "      <td>Just right</td>\n",
       "      <td>Promoter</td>\n",
       "    </tr>\n",
       "    <tr>\n",
       "      <td>1451</td>\n",
       "      <td>1498</td>\n",
       "      <td>New York City</td>\n",
       "      <td>Apps, Explorer</td>\n",
       "      <td>Week 7</td>\n",
       "      <td>1</td>\n",
       "      <td>A little too slow</td>\n",
       "      <td>Detractor</td>\n",
       "    </tr>\n",
       "    <tr>\n",
       "      <td>1452</td>\n",
       "      <td>1499</td>\n",
       "      <td>New York City</td>\n",
       "      <td>Apps</td>\n",
       "      <td>Week 5</td>\n",
       "      <td>8</td>\n",
       "      <td>Just right</td>\n",
       "      <td>Passive</td>\n",
       "    </tr>\n",
       "  </tbody>\n",
       "</table>\n",
       "<p>1453 rows × 7 columns</p>\n",
       "</div>"
      ],
      "text/plain": [
       "        ID       Location           Track    Week Rating (Num)  \\\n",
       "0      134  San Francisco  Apps, Explorer  Week 1            3   \n",
       "1       36    Los Angeles            Apps  Week 1            4   \n",
       "2      117  San Francisco           Games  Week 1            4   \n",
       "3      253            NaN             NaN  Week 2            4   \n",
       "4      350  New York City  Apps, Explorer  Week 1            4   \n",
       "...    ...            ...             ...     ...          ...   \n",
       "1448  1495  New York City  Apps, Explorer  Week 7           10   \n",
       "1449  1496  New York City  Apps, Explorer  Week 7            8   \n",
       "1450  1497  New York City            Apps  Week 7           10   \n",
       "1451  1498  New York City  Apps, Explorer  Week 7            1   \n",
       "1452  1499  New York City            Apps  Week 5            8   \n",
       "\n",
       "        Schedule Pacing  Sentiment  \n",
       "0            Just right  Detractor  \n",
       "1     A little too fast  Detractor  \n",
       "2          Way too slow  Detractor  \n",
       "3     A little too fast  Detractor  \n",
       "4            Just right  Detractor  \n",
       "...                 ...        ...  \n",
       "1448         Just right   Promoter  \n",
       "1449         Just right    Passive  \n",
       "1450         Just right   Promoter  \n",
       "1451  A little too slow  Detractor  \n",
       "1452         Just right    Passive  \n",
       "\n",
       "[1453 rows x 7 columns]"
      ]
     },
     "execution_count": 10,
     "metadata": {},
     "output_type": "execute_result"
    }
   ],
   "source": [
    "data2017"
   ]
  },
  {
   "cell_type": "markdown",
   "metadata": {
    "slideshow": {
     "slide_type": "subslide"
    }
   },
   "source": [
    "# Looking at value_counts(), I could find the overall NPS"
   ]
  },
  {
   "cell_type": "code",
   "execution_count": 11,
   "metadata": {
    "scrolled": false,
    "slideshow": {
     "slide_type": "fragment"
    }
   },
   "outputs": [
    {
     "data": {
      "text/plain": [
       "Promoter     760\n",
       "Passive      569\n",
       "Detractor    119\n",
       "Unknown        3\n",
       "Hater          2\n",
       "Name: Sentiment, dtype: int64"
      ]
     },
     "execution_count": 11,
     "metadata": {},
     "output_type": "execute_result"
    }
   ],
   "source": [
    "data2017[\"Sentiment\"].value_counts()"
   ]
  },
  {
   "cell_type": "code",
   "execution_count": 12,
   "metadata": {
    "slideshow": {
     "slide_type": "fragment"
    }
   },
   "outputs": [
    {
     "data": {
      "text/plain": [
       "44.06896551724138"
      ]
     },
     "execution_count": 12,
     "metadata": {},
     "output_type": "execute_result"
    }
   ],
   "source": [
    "NPS = (760-119-2)/(760+569+119+2)*100\n",
    "NPS"
   ]
  },
  {
   "cell_type": "code",
   "execution_count": 13,
   "metadata": {
    "slideshow": {
     "slide_type": "skip"
    }
   },
   "outputs": [
    {
     "data": {
      "text/plain": [
       "Apps               871\n",
       "Apps, Explorer     224\n",
       "Games              208\n",
       "VR                  60\n",
       "Games, Explorer     43\n",
       "Name: Track, dtype: int64"
      ]
     },
     "execution_count": 13,
     "metadata": {},
     "output_type": "execute_result"
    }
   ],
   "source": [
    "data2017[\"Track\"].value_counts()"
   ]
  },
  {
   "cell_type": "markdown",
   "metadata": {
    "slideshow": {
     "slide_type": "slide"
    }
   },
   "source": [
    "# I started wondering about the relationship between schedule pacing and sentiment"
   ]
  },
  {
   "cell_type": "code",
   "execution_count": 14,
   "metadata": {
    "slideshow": {
     "slide_type": "subslide"
    }
   },
   "outputs": [
    {
     "data": {
      "text/plain": [
       "(array([0, 1, 2, 3, 4]), <a list of 5 Text xticklabel objects>)"
      ]
     },
     "execution_count": 14,
     "metadata": {},
     "output_type": "execute_result"
    },
    {
     "data": {
      "image/png": "[encoded data removed]",
      "text/plain": [
       "<Figure size 432x288 with 1 Axes>"
      ]
     },
     "metadata": {
      "needs_background": "light"
     },
     "output_type": "display_data"
    }
   ],
   "source": [
    "sns.countplot(x=\"Schedule Pacing\", hue=\"Sentiment\", data=data2017)\n",
    "\n",
    "plt.xticks(rotation=45)"
   ]
  },
  {
   "cell_type": "markdown",
   "metadata": {
    "slideshow": {
     "slide_type": "subslide"
    }
   },
   "source": [
    "## Since it's not normalized, the visualization isn't *super* useful; maybe something like value_counts() would be"
   ]
  },
  {
   "cell_type": "code",
   "execution_count": 15,
   "metadata": {
    "slideshow": {
     "slide_type": "subslide"
    }
   },
   "outputs": [
    {
     "data": {
      "text/plain": [
       "Schedule Pacing    Sentiment\n",
       "A little too fast  Detractor     24\n",
       "                   Hater          1\n",
       "                   Passive      140\n",
       "                   Promoter     124\n",
       "A little too slow  Detractor     19\n",
       "                   Passive       41\n",
       "                   Promoter      40\n",
       "Just right         Detractor     65\n",
       "                   Passive      378\n",
       "                   Promoter     591\n",
       "Way too fast       Detractor      9\n",
       "                   Hater          1\n",
       "                   Passive        9\n",
       "                   Promoter       4\n",
       "Way too slow       Detractor      2\n",
       "                   Passive        1\n",
       "                   Promoter       1\n",
       "dtype: int64"
      ]
     },
     "execution_count": 15,
     "metadata": {},
     "output_type": "execute_result"
    }
   ],
   "source": [
    "# Not exactly value counts, but I ended up using this pattern a lot\n",
    "data2017.groupby(['Schedule Pacing', 'Sentiment']).size()"
   ]
  },
  {
   "cell_type": "markdown",
   "metadata": {
    "slideshow": {
     "slide_type": "subslide"
    }
   },
   "source": [
    "## This gives us a preliminary look, it seems like \"Way too fast\" and \"Way too slow\" are small groups (good) but give way to detraction more easily\n",
    "## Also \"A little too fast\" has our other Hater :("
   ]
  },
  {
   "cell_type": "markdown",
   "metadata": {
    "slideshow": {
     "slide_type": "fragment"
    }
   },
   "source": [
    "### Still we can have more precise data by calculating NPS for each Schedule Pacing"
   ]
  },
  {
   "cell_type": "code",
   "execution_count": 16,
   "metadata": {
    "slideshow": {
     "slide_type": "slide"
    }
   },
   "outputs": [],
   "source": [
    "def determine_NPS(category):\n",
    "    try:\n",
    "        promoter = category[\"Promoter\"] \n",
    "    except:\n",
    "        promoter = 0\n",
    "    try:\n",
    "        passive = category[\"Passive\"] \n",
    "    except:\n",
    "        passive = 0\n",
    "    \n",
    "    # haters and detractors have the same effect on NPS\n",
    "    try:\n",
    "        detractor = category[\"Detractor\"]\n",
    "    except:\n",
    "        detractor = 0\n",
    "    try:\n",
    "        detractor += category[\"Hater\"]\n",
    "    except:\n",
    "        pass\n",
    "    return (promoter - detractor) / (passive + promoter + detractor)"
   ]
  },
  {
   "cell_type": "code",
   "execution_count": 17,
   "metadata": {
    "slideshow": {
     "slide_type": "skip"
    }
   },
   "outputs": [],
   "source": [
    "v_fast_NPS = determine_NPS(data2017.groupby(['Schedule Pacing', 'Sentiment']).size()[\"Way too fast\"])\n",
    "semi_fast_NPS = determine_NPS(data2017.groupby(['Schedule Pacing', 'Sentiment']).size()[\"A little too fast\"])\n",
    "just_right_NPS = determine_NPS(data2017.groupby(['Schedule Pacing', 'Sentiment']).size()[\"Just right\"])\n",
    "semi_slow_NPS = determine_NPS(data2017.groupby(['Schedule Pacing', 'Sentiment']).size()[\"A little too slow\"])\n",
    "v_slow_NPS = determine_NPS(data2017.groupby(['Schedule Pacing', 'Sentiment']).size()[\"Way too slow\"]) "
   ]
  },
  {
   "cell_type": "code",
   "execution_count": 18,
   "metadata": {
    "slideshow": {
     "slide_type": "skip"
    }
   },
   "outputs": [],
   "source": [
    "pacing_data = [[\"Way too fast\", v_fast_NPS], [\"A little too fast\", semi_fast_NPS], [\"Just right\", just_right_NPS], [\"A little too slow\", semi_slow_NPS], [\"Way too slow\", v_slow_NPS]]\n",
    "\n",
    "pacing_NPS_df = pd.DataFrame(pacing_data, columns = ['Schedule Pacing', 'NPS'])"
   ]
  },
  {
   "cell_type": "code",
   "execution_count": 19,
   "metadata": {
    "slideshow": {
     "slide_type": "subslide"
    }
   },
   "outputs": [
    {
     "data": {
      "text/plain": [
       "<matplotlib.axes._subplots.AxesSubplot at 0x1a18526590>"
      ]
     },
     "execution_count": 19,
     "metadata": {},
     "output_type": "execute_result"
    },
    {
     "data": {
      "image/png": "[encoded data removed]",
      "text/plain": [
       "<Figure size 432x288 with 1 Axes>"
      ]
     },
     "metadata": {
      "needs_background": "light"
     },
     "output_type": "display_data"
    }
   ],
   "source": [
    "sns.lineplot(x=\"Schedule Pacing\", y=\"NPS\", data=pacing_NPS_df)"
   ]
  },
  {
   "cell_type": "markdown",
   "metadata": {
    "slideshow": {
     "slide_type": "subslide"
    }
   },
   "source": [
    "# Evidently, I was wrong that all the students behind are the most miserable. \"A little fast\" is the second most enjoyable pacing."
   ]
  },
  {
   "cell_type": "markdown",
   "metadata": {
    "slideshow": {
     "slide_type": "slide"
    }
   },
   "source": [
    "# Next I want to find anomolies to this trend. \n",
    "## Do some locations have low NPS and good pacing?\n",
    "## Do some tracks have harsh pacing and high NPS?"
   ]
  },
  {
   "cell_type": "code",
   "execution_count": 20,
   "metadata": {
    "slideshow": {
     "slide_type": "skip"
    }
   },
   "outputs": [
    {
     "data": {
      "text/plain": [
       "San Francisco    360\n",
       "New York City    330\n",
       "Santa Clara      201\n",
       "Los Angeles      106\n",
       "Beijing           78\n",
       "Chicago           70\n",
       "Tokyo             65\n",
       "Redwood City      58\n",
       "Oakland           47\n",
       "Washington DC     47\n",
       "Atlanta           33\n",
       "Hong Kong         11\n",
       "Name: Location, dtype: int64"
      ]
     },
     "execution_count": 20,
     "metadata": {},
     "output_type": "execute_result"
    }
   ],
   "source": [
    "data2017[\"Location\"].value_counts()"
   ]
  },
  {
   "cell_type": "markdown",
   "metadata": {
    "slideshow": {
     "slide_type": "slide"
    }
   },
   "source": [
    "# Location data\n",
    "## We already have a function to find NPS; let's use that to graph Locational NPS"
   ]
  },
  {
   "cell_type": "code",
   "execution_count": 21,
   "metadata": {
    "slideshow": {
     "slide_type": "skip"
    }
   },
   "outputs": [],
   "source": [
    "SF_NPS = determine_NPS(data2017.groupby(['Location', 'Sentiment']).size()[\"San Francisco\"])\n",
    "NYC_NPS = determine_NPS(data2017.groupby(['Location', 'Sentiment']).size()[\"New York City\"])\n",
    "SC_NPS = determine_NPS(data2017.groupby(['Location', 'Sentiment']).size()[\"Santa Clara\"])\n",
    "LA_NPS = determine_NPS(data2017.groupby(['Location', 'Sentiment']).size()[\"Los Angeles\"])\n",
    "Beijing_NPS = determine_NPS(data2017.groupby(['Location', 'Sentiment']).size()[\"Beijing\"])\n",
    "Chicago_NPS = determine_NPS(data2017.groupby(['Location', 'Sentiment']).size()[\"Chicago\"])\n",
    "Tokyo_NPS = determine_NPS(data2017.groupby(['Location', 'Sentiment']).size()[\"Tokyo\"])\n",
    "RC_NPS = determine_NPS(data2017.groupby(['Location', 'Sentiment']).size()[\"Redwood City\"])\n",
    "DC_NPS = determine_NPS(data2017.groupby(['Location', 'Sentiment']).size()[\"Washington DC\"])\n",
    "Oakland_NPS = determine_NPS(data2017.groupby(['Location', 'Sentiment']).size()[\"Oakland\"])\n",
    "Atlanta_NPS = determine_NPS(data2017.groupby(['Location', 'Sentiment']).size()[\"Atlanta\"])\n",
    "HK_NPS = determine_NPS(data2017.groupby(['Location', 'Sentiment']).size()[\"Hong Kong\"])"
   ]
  },
  {
   "cell_type": "code",
   "execution_count": 22,
   "metadata": {
    "slideshow": {
     "slide_type": "skip"
    }
   },
   "outputs": [],
   "source": [
    "location_NPS_data = [[\"San Francisco\", SF_NPS],\n",
    "                    [\"New York City\", NYC_NPS], \n",
    "                    [\"Santa Clara\", SC_NPS], \n",
    "                    [\"Los Angeles\", LA_NPS], \n",
    "                    [\"Beijing\", Beijing_NPS],\n",
    "                    [\"Chicago\", Chicago_NPS],\n",
    "                    [\"Tokyo\", Tokyo_NPS], \n",
    "                    [\"Redwood City\", RC_NPS],\n",
    "                    [\"Washington DC\", DC_NPS],\n",
    "                    [\"Oakland\", Oakland_NPS], \n",
    "                    [\"Atlanta\", Atlanta_NPS], \n",
    "                    [\"Hong Kong\", HK_NPS]]\n",
    "\n",
    "location_NPS_df = pd.DataFrame(location_NPS_data, columns = ['Location', 'NPS']) "
   ]
  },
  {
   "cell_type": "code",
   "execution_count": 23,
   "metadata": {
    "slideshow": {
     "slide_type": "subslide"
    }
   },
   "outputs": [
    {
     "data": {
      "text/plain": [
       "([0, 1, 2, 3, 4, 5, 6, 7, 8, 9, 10, 11],\n",
       " <a list of 12 Text xticklabel objects>)"
      ]
     },
     "execution_count": 23,
     "metadata": {},
     "output_type": "execute_result"
    },
    {
     "data": {
      "image/png": "[encoded data removed]",
      "text/plain": [
       "<Figure size 432x288 with 1 Axes>"
      ]
     },
     "metadata": {
      "needs_background": "light"
     },
     "output_type": "display_data"
    }
   ],
   "source": [
    "ax = sns.lineplot(x=\"Location\", y=\"NPS\", data=location_NPS_df)\n",
    "\n",
    "ax.axhline(0.5, ls='--')\n",
    "\n",
    "plt.xticks(rotation=45)"
   ]
  },
  {
   "cell_type": "markdown",
   "metadata": {
    "slideshow": {
     "slide_type": "subslide"
    }
   },
   "source": [
    "# Atlanta, Beijing, Los Angeles and Oakland lead the way\n",
    "## Hong Kong straggles far, far behind at NPS of -0.1818"
   ]
  },
  {
   "cell_type": "code",
   "execution_count": 24,
   "metadata": {
    "slideshow": {
     "slide_type": "skip"
    }
   },
   "outputs": [
    {
     "data": {
      "text/plain": [
       "-0.18181818181818182"
      ]
     },
     "execution_count": 24,
     "metadata": {},
     "output_type": "execute_result"
    }
   ],
   "source": [
    "HK_NPS"
   ]
  },
  {
   "cell_type": "markdown",
   "metadata": {
    "slideshow": {
     "slide_type": "subslide"
    }
   },
   "source": [
    "# Now let's consider what our leaders pacing is, compared to HK's "
   ]
  },
  {
   "cell_type": "code",
   "execution_count": 25,
   "metadata": {
    "slideshow": {
     "slide_type": "skip"
    }
   },
   "outputs": [
    {
     "data": {
      "text/plain": [
       "Location       Schedule Pacing  \n",
       "Atlanta        A little too fast      5\n",
       "               A little too slow      1\n",
       "               Just right            27\n",
       "Beijing        A little too fast     23\n",
       "               A little too slow      7\n",
       "               Just right            46\n",
       "               Way too fast           2\n",
       "Chicago        A little too fast     26\n",
       "               A little too slow      3\n",
       "               Just right            40\n",
       "               Way too fast           1\n",
       "Hong Kong      A little too fast      6\n",
       "               A little too slow      2\n",
       "               Just right             3\n",
       "Los Angeles    A little too fast     19\n",
       "               A little too slow     10\n",
       "               Just right            76\n",
       "               Way too fast           1\n",
       "New York City  A little too fast     34\n",
       "               A little too slow     19\n",
       "               Just right           271\n",
       "               Way too fast           6\n",
       "Oakland        A little too fast     13\n",
       "               A little too slow      5\n",
       "               Just right            29\n",
       "Redwood City   A little too fast      7\n",
       "               A little too slow      5\n",
       "               Just right            46\n",
       "San Francisco  A little too fast     64\n",
       "               A little too slow     24\n",
       "               Just right           265\n",
       "               Way too fast           6\n",
       "               Way too slow           1\n",
       "Santa Clara    A little too fast     46\n",
       "               A little too slow     11\n",
       "               Just right           141\n",
       "               Way too fast           1\n",
       "               Way too slow           2\n",
       "Tokyo          A little too fast     22\n",
       "               A little too slow      5\n",
       "               Just right            36\n",
       "               Way too fast           2\n",
       "Washington DC  A little too fast     11\n",
       "               A little too slow      5\n",
       "               Just right            29\n",
       "               Way too fast           2\n",
       "dtype: int64"
      ]
     },
     "execution_count": 25,
     "metadata": {},
     "output_type": "execute_result"
    }
   ],
   "source": [
    "data2017.groupby(['Location', 'Schedule Pacing']).size()"
   ]
  },
  {
   "cell_type": "code",
   "execution_count": 26,
   "metadata": {
    "slideshow": {
     "slide_type": "subslide"
    }
   },
   "outputs": [],
   "source": [
    "def determine_numeric_pacing(pacing):\n",
    "    if pacing == \"Way too fast\":\n",
    "        return 2\n",
    "    elif pacing == \"A little too fast\":\n",
    "        return 1\n",
    "    elif pacing == \"Just right\":\n",
    "        return 0\n",
    "    elif pacing == \"A little too slow\":\n",
    "        return -1\n",
    "    elif pacing == \"Way too slow\":\n",
    "        return -2\n",
    "    else:\n",
    "        return None"
   ]
  },
  {
   "cell_type": "code",
   "execution_count": 27,
   "metadata": {
    "slideshow": {
     "slide_type": "subslide"
    }
   },
   "outputs": [],
   "source": [
    "# More magic column adding\n",
    "data2017[\"Numeric Pacing\"] = data2017.apply(lambda row: determine_numeric_pacing(row[\"Schedule Pacing\"]), axis=1)"
   ]
  },
  {
   "cell_type": "code",
   "execution_count": 28,
   "metadata": {
    "slideshow": {
     "slide_type": "subslide"
    }
   },
   "outputs": [
    {
     "data": {
      "text/plain": [
       "0.12121212121212122"
      ]
     },
     "execution_count": 28,
     "metadata": {},
     "output_type": "execute_result"
    }
   ],
   "source": [
    "data2017[data2017[\"Location\"] == \"Atlanta\"][\"Numeric Pacing\"].mean()"
   ]
  },
  {
   "cell_type": "code",
   "execution_count": 29,
   "metadata": {
    "slideshow": {
     "slide_type": "fragment"
    }
   },
   "outputs": [
    {
     "data": {
      "text/plain": [
       "0.2564102564102564"
      ]
     },
     "execution_count": 29,
     "metadata": {},
     "output_type": "execute_result"
    }
   ],
   "source": [
    "data2017[data2017[\"Location\"] == \"Beijing\"][\"Numeric Pacing\"].mean()"
   ]
  },
  {
   "cell_type": "code",
   "execution_count": 30,
   "metadata": {
    "slideshow": {
     "slide_type": "fragment"
    }
   },
   "outputs": [
    {
     "data": {
      "text/plain": [
       "0.10377358490566038"
      ]
     },
     "execution_count": 30,
     "metadata": {},
     "output_type": "execute_result"
    }
   ],
   "source": [
    " data2017[data2017[\"Location\"] == \"Los Angeles\"][\"Numeric Pacing\"].mean()"
   ]
  },
  {
   "cell_type": "code",
   "execution_count": 31,
   "metadata": {
    "slideshow": {
     "slide_type": "fragment"
    }
   },
   "outputs": [
    {
     "data": {
      "text/plain": [
       "0.1702127659574468"
      ]
     },
     "execution_count": 31,
     "metadata": {},
     "output_type": "execute_result"
    }
   ],
   "source": [
    "data2017[data2017[\"Location\"] == \"Oakland\"][\"Numeric Pacing\"].mean()"
   ]
  },
  {
   "cell_type": "code",
   "execution_count": 32,
   "metadata": {
    "slideshow": {
     "slide_type": "fragment"
    }
   },
   "outputs": [
    {
     "data": {
      "text/plain": [
       "0.36363636363636365"
      ]
     },
     "execution_count": 32,
     "metadata": {},
     "output_type": "execute_result"
    }
   ],
   "source": [
    "data2017[data2017[\"Location\"] == \"Hong Kong\"][\"Numeric Pacing\"].mean()"
   ]
  },
  {
   "cell_type": "markdown",
   "metadata": {
    "slideshow": {
     "slide_type": "subslide"
    }
   },
   "source": [
    "# Is 0.2 too fast and Beijing an anomaly in terms of NPS?\n",
    "# Is Hong Kong's fast pacing significant?"
   ]
  },
  {
   "cell_type": "markdown",
   "metadata": {
    "slideshow": {
     "slide_type": "slide"
    }
   },
   "source": [
    "# Let's look at the tracks offered at Hong Kong."
   ]
  },
  {
   "cell_type": "code",
   "execution_count": 33,
   "metadata": {
    "slideshow": {
     "slide_type": "subslide"
    }
   },
   "outputs": [
    {
     "data": {
      "text/plain": [
       "Apps, Explorer    10\n",
       "Apps               1\n",
       "Name: Track, dtype: int64"
      ]
     },
     "execution_count": 33,
     "metadata": {},
     "output_type": "execute_result"
    }
   ],
   "source": [
    "data2017[data2017[\"Location\"] == \"Hong Kong\"][\"Track\"].value_counts()"
   ]
  },
  {
   "cell_type": "markdown",
   "metadata": {
    "slideshow": {
     "slide_type": "subslide"
    }
   },
   "source": [
    "# Apps and Apps, Explorer. Maybe this is the problem?"
   ]
  },
  {
   "cell_type": "code",
   "execution_count": 34,
   "metadata": {
    "slideshow": {
     "slide_type": "subslide"
    }
   },
   "outputs": [
    {
     "data": {
      "text/plain": [
       "(array([0, 1, 2, 3, 4]), <a list of 5 Text xticklabel objects>)"
      ]
     },
     "execution_count": 34,
     "metadata": {},
     "output_type": "execute_result"
    },
    {
     "data": {
      "image/png": "[encoded data removed]",
      "text/plain": [
       "<Figure size 432x288 with 1 Axes>"
      ]
     },
     "metadata": {
      "needs_background": "light"
     },
     "output_type": "display_data"
    }
   ],
   "source": [
    "sns.countplot(x=\"Track\", hue=\"Sentiment\", data=data2017)\n",
    "\n",
    "plt.xticks(rotation=45)"
   ]
  },
  {
   "cell_type": "markdown",
   "metadata": {
    "slideshow": {
     "slide_type": "slide"
    }
   },
   "source": [
    "# Apps, Explorer, I'm guessing, has the lowest NPS of all"
   ]
  },
  {
   "cell_type": "code",
   "execution_count": 35,
   "metadata": {
    "slideshow": {
     "slide_type": "skip"
    }
   },
   "outputs": [
    {
     "data": {
      "text/plain": [
       "Track            Sentiment\n",
       "Apps             Detractor     77\n",
       "                 Hater          1\n",
       "                 Passive      355\n",
       "                 Promoter     438\n",
       "Apps, Explorer   Detractor     24\n",
       "                 Passive      109\n",
       "                 Promoter      91\n",
       "Games            Detractor      9\n",
       "                 Passive       66\n",
       "                 Promoter     133\n",
       "Games, Explorer  Passive       12\n",
       "                 Promoter      31\n",
       "VR               Detractor      2\n",
       "                 Passive       12\n",
       "                 Promoter      46\n",
       "dtype: int64"
      ]
     },
     "execution_count": 35,
     "metadata": {},
     "output_type": "execute_result"
    }
   ],
   "source": [
    "data2017.groupby(['Track', 'Sentiment']).size()"
   ]
  },
  {
   "cell_type": "code",
   "execution_count": 36,
   "metadata": {
    "slideshow": {
     "slide_type": "skip"
    }
   },
   "outputs": [],
   "source": [
    "apps_explorer_NPS = determine_NPS(data2017.groupby(['Track', 'Sentiment']).size()[\"Apps, Explorer\"])\n",
    "apps_NPS = determine_NPS(data2017.groupby(['Track', 'Sentiment']).size()[\"Apps\"])\n",
    "games_explorer_NPS = determine_NPS(data2017.groupby(['Track', 'Sentiment']).size()[\"Games, Explorer\"])\n",
    "games_NPS = determine_NPS(data2017.groupby(['Track', 'Sentiment']).size()[\"Games\"])\n",
    "vr_NPS = determine_NPS(data2017.groupby(['Track', 'Sentiment']).size()[\"VR\"])"
   ]
  },
  {
   "cell_type": "code",
   "execution_count": 37,
   "metadata": {
    "slideshow": {
     "slide_type": "skip"
    }
   },
   "outputs": [],
   "source": [
    "track_NPS_data = [[\"Apps, Explorer\", apps_explorer_NPS],\n",
    "                    [\"Apps\", apps_NPS], \n",
    "                    [\"Games\", games_NPS], \n",
    "                    [\"Games, Explorer\", games_explorer_NPS],\n",
    "                    [\"VR\", vr_NPS]]\n",
    "\n",
    "track_NPS_df = pd.DataFrame(track_NPS_data, columns = ['Track', 'NPS']) "
   ]
  },
  {
   "cell_type": "code",
   "execution_count": 38,
   "metadata": {
    "slideshow": {
     "slide_type": "subslide"
    }
   },
   "outputs": [
    {
     "data": {
      "text/plain": [
       "([0, 1, 2, 3, 4], <a list of 5 Text xticklabel objects>)"
      ]
     },
     "execution_count": 38,
     "metadata": {},
     "output_type": "execute_result"
    },
    {
     "data": {
      "image/png": "[encoded data removed]",
      "text/plain": [
       "<Figure size 432x288 with 1 Axes>"
      ]
     },
     "metadata": {
      "needs_background": "light"
     },
     "output_type": "display_data"
    }
   ],
   "source": [
    "ax = sns.lineplot(x=\"Track\", y=\"NPS\", data=track_NPS_df)\n",
    "\n",
    "ax.axhline(0.5, ls='--')\n",
    "\n",
    "plt.xticks(rotation=45)"
   ]
  },
  {
   "cell_type": "markdown",
   "metadata": {
    "slideshow": {
     "slide_type": "subslide"
    }
   },
   "source": [
    "# Apps, Explorer is the least promoted!"
   ]
  },
  {
   "cell_type": "markdown",
   "metadata": {
    "slideshow": {
     "slide_type": "slide"
    }
   },
   "source": [
    "# Do other locations have this problem?"
   ]
  },
  {
   "cell_type": "code",
   "execution_count": 39,
   "metadata": {
    "slideshow": {
     "slide_type": "subslide"
    }
   },
   "outputs": [
    {
     "data": {
      "text/plain": [
       "Location       Track          \n",
       "Atlanta        Apps                15\n",
       "               Apps, Explorer      18\n",
       "Beijing        Apps                76\n",
       "               Apps, Explorer       2\n",
       "Chicago        Apps                52\n",
       "               Apps, Explorer      18\n",
       "Hong Kong      Apps                 1\n",
       "               Apps, Explorer      10\n",
       "Los Angeles    Apps                75\n",
       "               Games               31\n",
       "New York City  Apps               194\n",
       "               Apps, Explorer      49\n",
       "               Games               59\n",
       "               Games, Explorer     28\n",
       "Oakland        Apps                39\n",
       "               Apps, Explorer       8\n",
       "Redwood City   Apps                58\n",
       "San Francisco  Apps               155\n",
       "               Apps, Explorer      77\n",
       "               Games               68\n",
       "               VR                  60\n",
       "Santa Clara    Apps               111\n",
       "               Apps, Explorer      25\n",
       "               Games               50\n",
       "               Games, Explorer     15\n",
       "Tokyo          Apps                65\n",
       "Washington DC  Apps                30\n",
       "               Apps, Explorer      17\n",
       "dtype: int64"
      ]
     },
     "execution_count": 39,
     "metadata": {},
     "output_type": "execute_result"
    }
   ],
   "source": [
    "data2017.groupby(['Location', 'Track']).size()"
   ]
  },
  {
   "cell_type": "markdown",
   "metadata": {
    "slideshow": {
     "slide_type": "subslide"
    }
   },
   "source": [
    "# MOST locations don't offer Games or VR\n",
    "## In fact, VR is ONLY offered in SF"
   ]
  },
  {
   "cell_type": "markdown",
   "metadata": {
    "slideshow": {
     "slide_type": "subslide"
    }
   },
   "source": [
    "# We can check if it's the pacing by checking the mean and deviation of our new Numeric Pacing column"
   ]
  },
  {
   "cell_type": "code",
   "execution_count": 40,
   "metadata": {
    "slideshow": {
     "slide_type": "skip"
    }
   },
   "outputs": [],
   "source": [
    "mean_atl = data2017[data2017[\"Location\"] == \"Atlanta\"][\"Numeric Pacing\"].mean()\n",
    "mean_bei = data2017[data2017[\"Location\"] == \"Beijing\"][\"Numeric Pacing\"].mean()\n",
    "mean_chi = data2017[data2017[\"Location\"] == \"Chicago\"][\"Numeric Pacing\"].mean()\n",
    "mean_hk = data2017[data2017[\"Location\"] == \"Hong Kong\"][\"Numeric Pacing\"].mean()\n",
    "mean_la = data2017[data2017[\"Location\"] == \"Los Angeles\"][\"Numeric Pacing\"].mean()\n",
    "mean_nyc = data2017[data2017[\"Location\"] == \"New York City\"][\"Numeric Pacing\"].mean()\n",
    "mean_oak = data2017[data2017[\"Location\"] == \"Oakland\"][\"Numeric Pacing\"].mean()\n",
    "mean_rc = data2017[data2017[\"Location\"] == \"Redwood City\"][\"Numeric Pacing\"].mean()\n",
    "mean_sf = data2017[data2017[\"Location\"] == \"San Francisco\"][\"Numeric Pacing\"].mean()\n",
    "mean_sc = data2017[data2017[\"Location\"] == \"Santa Clara\"][\"Numeric Pacing\"].mean()\n",
    "mean_tok = data2017[data2017[\"Location\"] == \"Tokyo\"][\"Numeric Pacing\"].mean()\n",
    "mean_dc = data2017[data2017[\"Location\"] == \"Tokyo\"][\"Numeric Pacing\"].mean()"
   ]
  },
  {
   "cell_type": "code",
   "execution_count": 41,
   "metadata": {
    "slideshow": {
     "slide_type": "skip"
    }
   },
   "outputs": [],
   "source": [
    "std_atl = data2017[data2017[\"Location\"] == \"Atlanta\"][\"Numeric Pacing\"].std()\n",
    "std_bei = data2017[data2017[\"Location\"] == \"Beijing\"][\"Numeric Pacing\"].std()\n",
    "std_chi = data2017[data2017[\"Location\"] == \"Chicago\"][\"Numeric Pacing\"].std()\n",
    "std_hk = data2017[data2017[\"Location\"] == \"Hong Kong\"][\"Numeric Pacing\"].std()\n",
    "std_la = data2017[data2017[\"Location\"] == \"Los Angeles\"][\"Numeric Pacing\"].std()\n",
    "std_nyc = data2017[data2017[\"Location\"] == \"New York City\"][\"Numeric Pacing\"].std()\n",
    "std_oak = data2017[data2017[\"Location\"] == \"Oakland\"][\"Numeric Pacing\"].std()\n",
    "std_rc = data2017[data2017[\"Location\"] == \"Redwood City\"][\"Numeric Pacing\"].std()\n",
    "std_sf = data2017[data2017[\"Location\"] == \"San Francisco\"][\"Numeric Pacing\"].std()\n",
    "std_sc = data2017[data2017[\"Location\"] == \"Santa Clara\"][\"Numeric Pacing\"].std()\n",
    "std_tok = data2017[data2017[\"Location\"] == \"Tokyo\"][\"Numeric Pacing\"].std()\n",
    "std_dc = data2017[data2017[\"Location\"] == \"Tokyo\"][\"Numeric Pacing\"].std()"
   ]
  },
  {
   "cell_type": "code",
   "execution_count": 42,
   "metadata": {
    "slideshow": {
     "slide_type": "skip"
    }
   },
   "outputs": [],
   "source": [
    "location_pacing_data = [[\"San Francisco\", mean_sf, std_sf],\n",
    "                    [\"New York City\", mean_nyc, std_nyc], \n",
    "                    [\"Santa Clara\", mean_sc, std_sc], \n",
    "                    [\"Los Angeles\", mean_la, std_la], \n",
    "                    [\"Beijing\", mean_bei, std_bei],\n",
    "                    [\"Chicago\", mean_chi, std_chi],\n",
    "                    [\"Tokyo\", mean_tok, std_tok], \n",
    "                    [\"Redwood City\", mean_rc, std_rc],\n",
    "                    [\"Washington DC\", mean_dc, std_dc],\n",
    "                    [\"Oakland\", mean_oak, std_oak], \n",
    "                    [\"Atlanta\", mean_atl, std_atl], \n",
    "                    [\"Hong Kong\", mean_hk, std_hk]]\n",
    "\n",
    "location_pacing_df = pd.DataFrame(location_pacing_data, columns = ['Location', 'Mean Pacing', 'Std Pacing']) "
   ]
  },
  {
   "cell_type": "code",
   "execution_count": 43,
   "metadata": {
    "slideshow": {
     "slide_type": "subslide"
    }
   },
   "outputs": [
    {
     "data": {
      "text/plain": [
       "([0, 1, 2, 3, 4, 5, 6, 7, 8, 9, 10, 11],\n",
       " <a list of 12 Text xticklabel objects>)"
      ]
     },
     "execution_count": 43,
     "metadata": {},
     "output_type": "execute_result"
    },
    {
     "data": {
      "image/png": "[encoded data removed]",
      "text/plain": [
       "<Figure size 432x288 with 1 Axes>"
      ]
     },
     "metadata": {
      "needs_background": "light"
     },
     "output_type": "display_data"
    }
   ],
   "source": [
    "ax = sns.lineplot(x=\"Location\", y=\"Mean Pacing\", data=location_pacing_df)\n",
    "\n",
    "ax.axhline(0.2, ls='--')\n",
    "\n",
    "plt.xticks(rotation=45)"
   ]
  },
  {
   "cell_type": "markdown",
   "metadata": {
    "slideshow": {
     "slide_type": "subslide"
    }
   },
   "source": [
    "# This confirms that Hong Kong's pacing IS fast, but not significantly more than in other cities"
   ]
  },
  {
   "cell_type": "markdown",
   "metadata": {
    "slideshow": {
     "slide_type": "subslide"
    }
   },
   "source": [
    "# What about the deviation?"
   ]
  },
  {
   "cell_type": "code",
   "execution_count": 44,
   "metadata": {
    "slideshow": {
     "slide_type": "subslide"
    }
   },
   "outputs": [
    {
     "data": {
      "text/plain": [
       "([0, 1, 2, 3, 4, 5, 6, 7, 8, 9, 10, 11],\n",
       " <a list of 12 Text xticklabel objects>)"
      ]
     },
     "execution_count": 44,
     "metadata": {},
     "output_type": "execute_result"
    },
    {
     "data": {
      "image/png": "[encoded data removed]",
      "text/plain": [
       "<Figure size 432x288 with 1 Axes>"
      ]
     },
     "metadata": {
      "needs_background": "light"
     },
     "output_type": "display_data"
    }
   ],
   "source": [
    "ax = sns.lineplot(x=\"Location\", y=\"Std Pacing\", data=location_pacing_df)\n",
    "\n",
    "ax.axhline(0.62, ls='--')\n",
    "\n",
    "plt.xticks(rotation=45)"
   ]
  },
  {
   "cell_type": "markdown",
   "metadata": {
    "slideshow": {
     "slide_type": "subslide"
    }
   },
   "source": [
    "# Ahh, Hong Kong's deviation is much higher than others"
   ]
  },
  {
   "cell_type": "markdown",
   "metadata": {
    "slideshow": {
     "slide_type": "slide"
    }
   },
   "source": [
    "# What does this tell us? "
   ]
  },
  {
   "cell_type": "markdown",
   "metadata": {
    "slideshow": {
     "slide_type": "subslide"
    }
   },
   "source": [
    "# Hong Kong's students are significantly not on the same page in terms of pacing\n",
    "# They also have significantly low NPSs"
   ]
  },
  {
   "cell_type": "markdown",
   "metadata": {
    "slideshow": {
     "slide_type": "subslide"
    }
   },
   "source": [
    "# If we go back we'll see the top NPS scorer, Atlanta, has the lowest deviation in pacing."
   ]
  },
  {
   "cell_type": "markdown",
   "metadata": {
    "slideshow": {
     "slide_type": "slide"
    }
   },
   "source": [
    "# What else did we find out?"
   ]
  },
  {
   "cell_type": "markdown",
   "metadata": {
    "slideshow": {
     "slide_type": "subslide"
    }
   },
   "source": [
    "## Despite having the most offering SF did not have a top NPS"
   ]
  },
  {
   "cell_type": "markdown",
   "metadata": {
    "slideshow": {
     "slide_type": "fragment"
    }
   },
   "source": [
    "### SF also has decent pacing, so further analysis is required"
   ]
  },
  {
   "cell_type": "markdown",
   "metadata": {
    "slideshow": {
     "slide_type": "fragment"
    }
   },
   "source": [
    "### It should be noted things like environment, teachers, fellow students' behavior, CANNOT be determined with the given data"
   ]
  },
  {
   "cell_type": "markdown",
   "metadata": {
    "slideshow": {
     "slide_type": "subslide"
    }
   },
   "source": [
    "# NPS overall is about 44 of 100"
   ]
  },
  {
   "cell_type": "markdown",
   "metadata": {
    "slideshow": {
     "slide_type": "fragment"
    }
   },
   "source": [
    "## NPSs of all locations but Hong Kong are above 20"
   ]
  },
  {
   "cell_type": "markdown",
   "metadata": {
    "slideshow": {
     "slide_type": "fragment"
    }
   },
   "source": [
    "## Hong Kong's is -18"
   ]
  },
  {
   "cell_type": "code",
   "execution_count": null,
   "metadata": {},
   "outputs": [],
   "source": []
  }
 ],
 "metadata": {
  "celltoolbar": "Slideshow",
  "kernelspec": {
   "display_name": "Python 3",
   "language": "python",
   "name": "python3"
  },
  "language_info": {
   "codemirror_mode": {
    "name": "ipython",
    "version": 3
   },
   "file_extension": ".py",
   "mimetype": "text/x-python",
   "name": "python",
   "nbconvert_exporter": "python",
   "pygments_lexer": "ipython3",
   "version": "3.7.4"
  }
 },
 "nbformat": 4,
 "nbformat_minor": 2
}
