{
 "cells": [
  {
   "cell_type": "code",
   "execution_count": 1,
   "metadata": {},
   "outputs": [],
   "source": [
    "import pandas as pd\n",
    "import numpy as np\n",
    "\n",
    "data2017 = pd.read_csv(\"SA Feedback Surveys_FINAL/2017/Student Feedback Surveys-Superview.csv\")"
   ]
  },
  {
   "cell_type": "code",
   "execution_count": 2,
   "metadata": {},
   "outputs": [
    {
     "data": {
      "text/html": [
       "<div>\n",
       "<style scoped>\n",
       "    .dataframe tbody tr th:only-of-type {\n",
       "        vertical-align: middle;\n",
       "    }\n",
       "\n",
       "    .dataframe tbody tr th {\n",
       "        vertical-align: top;\n",
       "    }\n",
       "\n",
       "    .dataframe thead th {\n",
       "        text-align: right;\n",
       "    }\n",
       "</style>\n",
       "<table border=\"1\" class=\"dataframe\">\n",
       "  <thead>\n",
       "    <tr style=\"text-align: right;\">\n",
       "      <th></th>\n",
       "      <th>ID</th>\n",
       "      <th>Location</th>\n",
       "      <th>Track</th>\n",
       "      <th>Week</th>\n",
       "      <th>Rating (Num)</th>\n",
       "      <th>Schedule Pacing</th>\n",
       "    </tr>\n",
       "  </thead>\n",
       "  <tbody>\n",
       "    <tr>\n",
       "      <td>0</td>\n",
       "      <td>134</td>\n",
       "      <td>San Francisco</td>\n",
       "      <td>Apps, Explorer</td>\n",
       "      <td>Week 1</td>\n",
       "      <td>3</td>\n",
       "      <td>Just right</td>\n",
       "    </tr>\n",
       "    <tr>\n",
       "      <td>1</td>\n",
       "      <td>36</td>\n",
       "      <td>Los Angeles</td>\n",
       "      <td>Apps</td>\n",
       "      <td>Week 1</td>\n",
       "      <td>4</td>\n",
       "      <td>A little too fast</td>\n",
       "    </tr>\n",
       "    <tr>\n",
       "      <td>2</td>\n",
       "      <td>117</td>\n",
       "      <td>San Francisco</td>\n",
       "      <td>Games</td>\n",
       "      <td>Week 1</td>\n",
       "      <td>4</td>\n",
       "      <td>Way too slow</td>\n",
       "    </tr>\n",
       "    <tr>\n",
       "      <td>3</td>\n",
       "      <td>253</td>\n",
       "      <td>NaN</td>\n",
       "      <td>NaN</td>\n",
       "      <td>Week 2</td>\n",
       "      <td>4</td>\n",
       "      <td>A little too fast</td>\n",
       "    </tr>\n",
       "    <tr>\n",
       "      <td>4</td>\n",
       "      <td>350</td>\n",
       "      <td>New York City</td>\n",
       "      <td>Apps, Explorer</td>\n",
       "      <td>Week 1</td>\n",
       "      <td>4</td>\n",
       "      <td>Just right</td>\n",
       "    </tr>\n",
       "    <tr>\n",
       "      <td>...</td>\n",
       "      <td>...</td>\n",
       "      <td>...</td>\n",
       "      <td>...</td>\n",
       "      <td>...</td>\n",
       "      <td>...</td>\n",
       "      <td>...</td>\n",
       "    </tr>\n",
       "    <tr>\n",
       "      <td>1448</td>\n",
       "      <td>1495</td>\n",
       "      <td>New York City</td>\n",
       "      <td>Apps, Explorer</td>\n",
       "      <td>Week 7</td>\n",
       "      <td>10</td>\n",
       "      <td>Just right</td>\n",
       "    </tr>\n",
       "    <tr>\n",
       "      <td>1449</td>\n",
       "      <td>1496</td>\n",
       "      <td>New York City</td>\n",
       "      <td>Apps, Explorer</td>\n",
       "      <td>Week 7</td>\n",
       "      <td>8</td>\n",
       "      <td>Just right</td>\n",
       "    </tr>\n",
       "    <tr>\n",
       "      <td>1450</td>\n",
       "      <td>1497</td>\n",
       "      <td>New York City</td>\n",
       "      <td>Apps</td>\n",
       "      <td>Week 7</td>\n",
       "      <td>10</td>\n",
       "      <td>Just right</td>\n",
       "    </tr>\n",
       "    <tr>\n",
       "      <td>1451</td>\n",
       "      <td>1498</td>\n",
       "      <td>New York City</td>\n",
       "      <td>Apps, Explorer</td>\n",
       "      <td>Week 7</td>\n",
       "      <td>1</td>\n",
       "      <td>A little too slow</td>\n",
       "    </tr>\n",
       "    <tr>\n",
       "      <td>1452</td>\n",
       "      <td>1499</td>\n",
       "      <td>New York City</td>\n",
       "      <td>Apps</td>\n",
       "      <td>Week 5</td>\n",
       "      <td>8</td>\n",
       "      <td>Just right</td>\n",
       "    </tr>\n",
       "  </tbody>\n",
       "</table>\n",
       "<p>1453 rows × 6 columns</p>\n",
       "</div>"
      ],
      "text/plain": [
       "        ID       Location           Track    Week Rating (Num)  \\\n",
       "0      134  San Francisco  Apps, Explorer  Week 1            3   \n",
       "1       36    Los Angeles            Apps  Week 1            4   \n",
       "2      117  San Francisco           Games  Week 1            4   \n",
       "3      253            NaN             NaN  Week 2            4   \n",
       "4      350  New York City  Apps, Explorer  Week 1            4   \n",
       "...    ...            ...             ...     ...          ...   \n",
       "1448  1495  New York City  Apps, Explorer  Week 7           10   \n",
       "1449  1496  New York City  Apps, Explorer  Week 7            8   \n",
       "1450  1497  New York City            Apps  Week 7           10   \n",
       "1451  1498  New York City  Apps, Explorer  Week 7            1   \n",
       "1452  1499  New York City            Apps  Week 5            8   \n",
       "\n",
       "        Schedule Pacing  \n",
       "0            Just right  \n",
       "1     A little too fast  \n",
       "2          Way too slow  \n",
       "3     A little too fast  \n",
       "4            Just right  \n",
       "...                 ...  \n",
       "1448         Just right  \n",
       "1449         Just right  \n",
       "1450         Just right  \n",
       "1451  A little too slow  \n",
       "1452         Just right  \n",
       "\n",
       "[1453 rows x 6 columns]"
      ]
     },
     "execution_count": 2,
     "metadata": {},
     "output_type": "execute_result"
    }
   ],
   "source": [
    "data2017"
   ]
  },
  {
   "cell_type": "code",
   "execution_count": 3,
   "metadata": {},
   "outputs": [
    {
     "data": {
      "text/plain": [
       "8          392\n",
       "9          384\n",
       "10         376\n",
       "7          177\n",
       "6           59\n",
       "5           35\n",
       "4           13\n",
       "3            8\n",
       "#ERROR!      3\n",
       "1            2\n",
       "0            2\n",
       "2            2\n",
       "Name: Rating (Num), dtype: int64"
      ]
     },
     "execution_count": 3,
     "metadata": {},
     "output_type": "execute_result"
    }
   ],
   "source": [
    "data2017[\"Rating (Num)\"].value_counts()"
   ]
  },
  {
   "cell_type": "code",
   "execution_count": 4,
   "metadata": {},
   "outputs": [],
   "source": [
    "promoters2017 = data2017[(data2017[\"Rating (Num)\"] == 9) | (data2017[\"Rating (Num)\"] == 10)]"
   ]
  },
  {
   "cell_type": "code",
   "execution_count": 5,
   "metadata": {},
   "outputs": [],
   "source": [
    "passives2017 = data2017[(data2017[\"Rating (Num)\"] == 7) | (data2017[\"Rating (Num)\"] == 8)]"
   ]
  },
  {
   "cell_type": "code",
   "execution_count": 6,
   "metadata": {},
   "outputs": [],
   "source": [
    "detractors2017 = (data2017[\"Rating (Num)\"] == 6) | (data2017[\"Rating (Num)\"] == 5) | (data2017[\"Rating (Num)\"] == 4) | (data2017[\"Rating (Num)\"] == 3) | (data2017[\"Rating (Num)\"] == 2) | (data2017[\"Rating (Num)\"] == 1)"
   ]
  },
  {
   "cell_type": "code",
   "execution_count": 7,
   "metadata": {},
   "outputs": [],
   "source": [
    "haters2017 = data2017[data2017[\"Rating (Num)\"] == 0]"
   ]
  },
  {
   "cell_type": "code",
   "execution_count": 8,
   "metadata": {},
   "outputs": [],
   "source": [
    "def determineSentiment(rating):\n",
    "    if (rating == \"9\") | (rating == \"10\"):\n",
    "        return \"Promoter\"\n",
    "    elif (rating == \"7\") | (rating == \"8\"):\n",
    "        return \"Passive\"\n",
    "    elif (rating == \"1\") | (rating == \"2\") | (rating == \"3\") | (rating == \"4\") | (rating == \"5\") | (rating == \"6\"):\n",
    "        return \"Detractor\"\n",
    "    elif (rating == \"0\"):\n",
    "        return \"Hater\"\n",
    "    else:\n",
    "        return \"Unknown\""
   ]
  },
  {
   "cell_type": "code",
   "execution_count": 9,
   "metadata": {},
   "outputs": [],
   "source": [
    "data2017[\"Sentiment\"] = data2017.apply(lambda row: determineSentiment(row[\"Rating (Num)\"]), axis=1)"
   ]
  },
  {
   "cell_type": "code",
   "execution_count": 10,
   "metadata": {},
   "outputs": [
    {
     "data": {
      "text/html": [
       "<div>\n",
       "<style scoped>\n",
       "    .dataframe tbody tr th:only-of-type {\n",
       "        vertical-align: middle;\n",
       "    }\n",
       "\n",
       "    .dataframe tbody tr th {\n",
       "        vertical-align: top;\n",
       "    }\n",
       "\n",
       "    .dataframe thead th {\n",
       "        text-align: right;\n",
       "    }\n",
       "</style>\n",
       "<table border=\"1\" class=\"dataframe\">\n",
       "  <thead>\n",
       "    <tr style=\"text-align: right;\">\n",
       "      <th></th>\n",
       "      <th>ID</th>\n",
       "      <th>Location</th>\n",
       "      <th>Track</th>\n",
       "      <th>Week</th>\n",
       "      <th>Rating (Num)</th>\n",
       "      <th>Schedule Pacing</th>\n",
       "      <th>Sentiment</th>\n",
       "    </tr>\n",
       "  </thead>\n",
       "  <tbody>\n",
       "    <tr>\n",
       "      <td>0</td>\n",
       "      <td>134</td>\n",
       "      <td>San Francisco</td>\n",
       "      <td>Apps, Explorer</td>\n",
       "      <td>Week 1</td>\n",
       "      <td>3</td>\n",
       "      <td>Just right</td>\n",
       "      <td>Detractor</td>\n",
       "    </tr>\n",
       "    <tr>\n",
       "      <td>1</td>\n",
       "      <td>36</td>\n",
       "      <td>Los Angeles</td>\n",
       "      <td>Apps</td>\n",
       "      <td>Week 1</td>\n",
       "      <td>4</td>\n",
       "      <td>A little too fast</td>\n",
       "      <td>Detractor</td>\n",
       "    </tr>\n",
       "    <tr>\n",
       "      <td>2</td>\n",
       "      <td>117</td>\n",
       "      <td>San Francisco</td>\n",
       "      <td>Games</td>\n",
       "      <td>Week 1</td>\n",
       "      <td>4</td>\n",
       "      <td>Way too slow</td>\n",
       "      <td>Detractor</td>\n",
       "    </tr>\n",
       "    <tr>\n",
       "      <td>3</td>\n",
       "      <td>253</td>\n",
       "      <td>NaN</td>\n",
       "      <td>NaN</td>\n",
       "      <td>Week 2</td>\n",
       "      <td>4</td>\n",
       "      <td>A little too fast</td>\n",
       "      <td>Detractor</td>\n",
       "    </tr>\n",
       "    <tr>\n",
       "      <td>4</td>\n",
       "      <td>350</td>\n",
       "      <td>New York City</td>\n",
       "      <td>Apps, Explorer</td>\n",
       "      <td>Week 1</td>\n",
       "      <td>4</td>\n",
       "      <td>Just right</td>\n",
       "      <td>Detractor</td>\n",
       "    </tr>\n",
       "    <tr>\n",
       "      <td>...</td>\n",
       "      <td>...</td>\n",
       "      <td>...</td>\n",
       "      <td>...</td>\n",
       "      <td>...</td>\n",
       "      <td>...</td>\n",
       "      <td>...</td>\n",
       "      <td>...</td>\n",
       "    </tr>\n",
       "    <tr>\n",
       "      <td>1448</td>\n",
       "      <td>1495</td>\n",
       "      <td>New York City</td>\n",
       "      <td>Apps, Explorer</td>\n",
       "      <td>Week 7</td>\n",
       "      <td>10</td>\n",
       "      <td>Just right</td>\n",
       "      <td>Promoter</td>\n",
       "    </tr>\n",
       "    <tr>\n",
       "      <td>1449</td>\n",
       "      <td>1496</td>\n",
       "      <td>New York City</td>\n",
       "      <td>Apps, Explorer</td>\n",
       "      <td>Week 7</td>\n",
       "      <td>8</td>\n",
       "      <td>Just right</td>\n",
       "      <td>Passive</td>\n",
       "    </tr>\n",
       "    <tr>\n",
       "      <td>1450</td>\n",
       "      <td>1497</td>\n",
       "      <td>New York City</td>\n",
       "      <td>Apps</td>\n",
       "      <td>Week 7</td>\n",
       "      <td>10</td>\n",
       "      <td>Just right</td>\n",
       "      <td>Promoter</td>\n",
       "    </tr>\n",
       "    <tr>\n",
       "      <td>1451</td>\n",
       "      <td>1498</td>\n",
       "      <td>New York City</td>\n",
       "      <td>Apps, Explorer</td>\n",
       "      <td>Week 7</td>\n",
       "      <td>1</td>\n",
       "      <td>A little too slow</td>\n",
       "      <td>Detractor</td>\n",
       "    </tr>\n",
       "    <tr>\n",
       "      <td>1452</td>\n",
       "      <td>1499</td>\n",
       "      <td>New York City</td>\n",
       "      <td>Apps</td>\n",
       "      <td>Week 5</td>\n",
       "      <td>8</td>\n",
       "      <td>Just right</td>\n",
       "      <td>Passive</td>\n",
       "    </tr>\n",
       "  </tbody>\n",
       "</table>\n",
       "<p>1453 rows × 7 columns</p>\n",
       "</div>"
      ],
      "text/plain": [
       "        ID       Location           Track    Week Rating (Num)  \\\n",
       "0      134  San Francisco  Apps, Explorer  Week 1            3   \n",
       "1       36    Los Angeles            Apps  Week 1            4   \n",
       "2      117  San Francisco           Games  Week 1            4   \n",
       "3      253            NaN             NaN  Week 2            4   \n",
       "4      350  New York City  Apps, Explorer  Week 1            4   \n",
       "...    ...            ...             ...     ...          ...   \n",
       "1448  1495  New York City  Apps, Explorer  Week 7           10   \n",
       "1449  1496  New York City  Apps, Explorer  Week 7            8   \n",
       "1450  1497  New York City            Apps  Week 7           10   \n",
       "1451  1498  New York City  Apps, Explorer  Week 7            1   \n",
       "1452  1499  New York City            Apps  Week 5            8   \n",
       "\n",
       "        Schedule Pacing  Sentiment  \n",
       "0            Just right  Detractor  \n",
       "1     A little too fast  Detractor  \n",
       "2          Way too slow  Detractor  \n",
       "3     A little too fast  Detractor  \n",
       "4            Just right  Detractor  \n",
       "...                 ...        ...  \n",
       "1448         Just right   Promoter  \n",
       "1449         Just right    Passive  \n",
       "1450         Just right   Promoter  \n",
       "1451  A little too slow  Detractor  \n",
       "1452         Just right    Passive  \n",
       "\n",
       "[1453 rows x 7 columns]"
      ]
     },
     "execution_count": 10,
     "metadata": {},
     "output_type": "execute_result"
    }
   ],
   "source": [
    "data2017"
   ]
  },
  {
   "cell_type": "code",
   "execution_count": 11,
   "metadata": {
    "scrolled": false
   },
   "outputs": [
    {
     "data": {
      "text/plain": [
       "Promoter     760\n",
       "Passive      569\n",
       "Detractor    119\n",
       "Unknown        3\n",
       "Hater          2\n",
       "Name: Sentiment, dtype: int64"
      ]
     },
     "execution_count": 11,
     "metadata": {},
     "output_type": "execute_result"
    }
   ],
   "source": [
    "data2017[\"Sentiment\"].value_counts()"
   ]
  },
  {
   "cell_type": "code",
   "execution_count": 12,
   "metadata": {},
   "outputs": [
    {
     "data": {
      "text/plain": [
       "0.4406896551724138"
      ]
     },
     "execution_count": 12,
     "metadata": {},
     "output_type": "execute_result"
    }
   ],
   "source": [
    "NPS = (760-119-2)/(760+569+119+2)\n",
    "NPS"
   ]
  },
  {
   "cell_type": "code",
   "execution_count": 13,
   "metadata": {},
   "outputs": [
    {
     "data": {
      "text/plain": [
       "Apps               871\n",
       "Apps, Explorer     224\n",
       "Games              208\n",
       "VR                  60\n",
       "Games, Explorer     43\n",
       "Name: Track, dtype: int64"
      ]
     },
     "execution_count": 13,
     "metadata": {},
     "output_type": "execute_result"
    }
   ],
   "source": [
    "data2017[\"Track\"].value_counts()"
   ]
  },
  {
   "cell_type": "code",
   "execution_count": 14,
   "metadata": {},
   "outputs": [
    {
     "data": {
      "text/plain": [
       "<matplotlib.axes._subplots.AxesSubplot at 0x1a24423650>"
      ]
     },
     "execution_count": 14,
     "metadata": {},
     "output_type": "execute_result"
    }
   ],
   "source": [
    "import seaborn as sns\n",
    "sns.countplot(x=\"Track\", hue=\"Sentiment\", data=data2017)"
   ]
  },
  {
   "cell_type": "code",
   "execution_count": null,
   "metadata": {},
   "outputs": [],
   "source": []
  }
 ],
 "metadata": {
  "kernelspec": {
   "display_name": "Python 3",
   "language": "python",
   "name": "python3"
  },
  "language_info": {
   "codemirror_mode": {
    "name": "ipython",
    "version": 3
   },
   "file_extension": ".py",
   "mimetype": "text/x-python",
   "name": "python",
   "nbconvert_exporter": "python",
   "pygments_lexer": "ipython3",
   "version": "3.7.4"
  }
 },
 "nbformat": 4,
 "nbformat_minor": 2
}
